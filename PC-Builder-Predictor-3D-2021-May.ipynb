{
 "cells": [
  {
   "cell_type": "code",
   "execution_count": 29,
   "id": "4f126bb0",
   "metadata": {},
   "outputs": [],
   "source": [
    "#Step1: Necessery imports\n",
    "# This Python 3 environment comes with many helpful analytics libraries installed\n",
    "# It is defined by the kaggle/python Docker image: https://github.com/kaggle/docker-python\n",
    "# For example, here's several helpful packages to load\n",
    "\n",
    "#Step1: Necessery imports\n",
    "import pandas as pd\n",
    "import numpy as np\n",
    "import matplotlib as mpl\n",
    "import scipy as scipy\n",
    "import seaborn as sns\n",
    "import plotly.express as px\n",
    "import plotly.figure_factory as ff\n",
    "import plotly.graph_objects as go\n",
    "import matplotlib.pyplot as plt\n",
    "from pandas import DataFrame\n",
    "from sklearn import linear_model\n",
    "from sklearn.ensemble import RandomForestRegressor\n",
    "from sklearn.model_selection import train_test_split\n",
    "from sklearn.tree import DecisionTreeRegressor\n",
    "from sklearn.metrics import mean_squared_error, r2_score , mean_absolute_error\n",
    "\n",
    "\n",
    "#Step2: Loading the data \n",
    "#Change the csv file for another brand\n",
    "#Added Data types for memory optimization and faster loading\n",
    "#add datatypes for clearance\n",
    "\n",
    "data_cpu = pd.read_csv('data/cpu_bench_may_2021.csv')\n",
    "data_gpu = pd.read_csv('data/vga_bench_may_2021.csv')\n",
    "data_hdd = pd.read_csv('data/hdd_bench_may_2021.csv')\n",
    "#add datasets for hdd\n",
    "#add datasets for motherboard\n"
   ]
  },
  {
   "cell_type": "code",
   "execution_count": 30,
   "id": "a2369c00",
   "metadata": {},
   "outputs": [
    {
     "data": {
      "text/plain": [
       "(100, 7)"
      ]
     },
     "execution_count": 30,
     "metadata": {},
     "output_type": "execute_result"
    }
   ],
   "source": [
    "data_cpu.shape"
   ]
  },
  {
   "cell_type": "code",
   "execution_count": 31,
   "id": "d680ea2f",
   "metadata": {},
   "outputs": [
    {
     "data": {
      "text/plain": [
       "(50, 7)"
      ]
     },
     "execution_count": 31,
     "metadata": {},
     "output_type": "execute_result"
    }
   ],
   "source": [
    "data_gpu.shape"
   ]
  },
  {
   "cell_type": "code",
   "execution_count": 32,
   "id": "5429238c",
   "metadata": {},
   "outputs": [
    {
     "data": {
      "text/plain": [
       "(50, 7)"
      ]
     },
     "execution_count": 32,
     "metadata": {},
     "output_type": "execute_result"
    }
   ],
   "source": [
    "data_hdd.shape"
   ]
  },
  {
   "cell_type": "code",
   "execution_count": null,
   "id": "98df1bbe",
   "metadata": {},
   "outputs": [],
   "source": []
  },
  {
   "cell_type": "code",
   "execution_count": null,
   "id": "cad4c81a",
   "metadata": {},
   "outputs": [],
   "source": []
  }
 ],
 "metadata": {
  "kernelspec": {
   "display_name": "Python 3",
   "language": "python",
   "name": "python3"
  },
  "language_info": {
   "codemirror_mode": {
    "name": "ipython",
    "version": 3
   },
   "file_extension": ".py",
   "mimetype": "text/x-python",
   "name": "python",
   "nbconvert_exporter": "python",
   "pygments_lexer": "ipython3",
   "version": "3.8.8"
  }
 },
 "nbformat": 4,
 "nbformat_minor": 5
}
