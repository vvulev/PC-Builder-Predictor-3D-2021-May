{
 "cells": [
  {
   "cell_type": "code",
   "execution_count": 49,
   "id": "4f126bb0",
   "metadata": {},
   "outputs": [],
   "source": [
    "#Step1: Necessery imports\n",
    "# This Python 3 environment comes with many helpful analytics libraries installed\n",
    "# It is defined by the kaggle/python Docker image: https://github.com/kaggle/docker-python\n",
    "# For example, here's several helpful packages to load\n",
    "\n",
    "#Step1: Necessery imports\n",
    "import pandas as pd\n",
    "import numpy as np\n",
    "import matplotlib as mpl\n",
    "import scipy as scipy\n",
    "import seaborn as sns\n",
    "import plotly.express as px\n",
    "import plotly.figure_factory as ff\n",
    "import plotly.graph_objects as go\n",
    "import matplotlib.pyplot as plt\n",
    "from pandas import DataFrame\n",
    "from sklearn import linear_model\n",
    "from sklearn.ensemble import RandomForestRegressor\n",
    "from sklearn.model_selection import train_test_split\n",
    "from sklearn.tree import DecisionTreeRegressor\n",
    "from sklearn.metrics import mean_squared_error, r2_score , mean_absolute_error\n",
    "\n",
    "\n",
    "#Step2: Loading the data \n",
    "#Change the csv file for another brand\n",
    "#Added Data types for memory optimization and faster loading\n",
    "#add datatypes for clearance\n",
    "\n",
    "data_cpu = pd.read_csv('data/cpu_bench_may_2021.csv')\n",
    "data_gpu = pd.read_csv('data/vga_bench_may_2021.csv')\n",
    "data_hdd = pd.read_csv('data/hdd_bench_may_2021.csv')\n",
    "#add datasets for hdd\n",
    "#add datasets for motherboard\n"
   ]
  },
  {
   "cell_type": "code",
   "execution_count": 50,
   "id": "11518a14",
   "metadata": {},
   "outputs": [
    {
     "name": "stdout",
     "output_type": "stream",
     "text": [
      "                             Title  \\\n",
      "0  Intel Xeon E5-2690 v4 @ 2.60GHz   \n",
      "\n",
      "                                          Title_link  \\\n",
      "0  https://www.cpubenchmark.net/cpu.php?cpu=Intel...   \n",
      "\n",
      "                                                name    index  count  \\\n",
      "0  https://www.cpubenchmark.net/cpu.php?cpu=Intel...  (87.0%)   94.5   \n",
      "\n",
      "  mark-neww    Price  \n",
      "0    20,779  $219.99  \n",
      "                    Title                                         Title_link  \\\n",
      "0  GeForce GTX 1650 SUPER  https://www.videocardbenchmark.net/gpu.php?gpu...   \n",
      "\n",
      "                                                name  index  count  mark-neww  \\\n",
      "0  https://www.videocardbenchmark.net/gpu.php?gpu...  (86%)   61.9       9897   \n",
      "\n",
      "   price-neww  \n",
      "0      159.99  \n",
      "                        Title  \\\n",
      "0  GIGABYTE GP-GSM2NE3256GNTD   \n",
      "\n",
      "                                          Title_link  \\\n",
      "0  https://www.harddrivebenchmark.net/hdd.php?hdd...   \n",
      "\n",
      "                                                name  index  count mark-neww  \\\n",
      "0  https://www.harddrivebenchmark.net/hdd.php?hdd...  (86%)  321.2    12,826   \n",
      "\n",
      "   price-neww  \n",
      "0       39.93  \n"
     ]
    }
   ],
   "source": [
    "best_cpu = data_cpu.head(1)\n",
    "best_gpu = data_gpu.head(1)\n",
    "best_hdd = data_hdd.head(1)\n",
    "\n",
    "print(best_cpu)\n",
    "print(best_gpu)\n",
    "print(best_hdd)"
   ]
  }
 ],
 "metadata": {
  "kernelspec": {
   "display_name": "Python 3",
   "language": "python",
   "name": "python3"
  },
  "language_info": {
   "codemirror_mode": {
    "name": "ipython",
    "version": 3
   },
   "file_extension": ".py",
   "mimetype": "text/x-python",
   "name": "python",
   "nbconvert_exporter": "python",
   "pygments_lexer": "ipython3",
   "version": "3.8.8"
  }
 },
 "nbformat": 4,
 "nbformat_minor": 5
}
